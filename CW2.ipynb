{
 "cells": [
  {
   "cell_type": "markdown",
   "metadata": {
    "colab_type": "text",
    "id": "view-in-github"
   },
   "source": [
    "<a href=\"https://colab.research.google.com/github/chuu-shin/CS485-Course-Work-2/blob/main/CW2.ipynb\" target=\"_parent\"><img src=\"https://colab.research.google.com/assets/colab-badge.svg\" alt=\"Open In Colab\"/></a>"
   ]
  },
  {
   "cell_type": "code",
   "execution_count": 3,
   "metadata": {
    "id": "K6JYwuvMJG74"
   },
   "outputs": [],
   "source": [
    "import os\n",
    "from google.colab import drive\n",
    "import logging\n",
    "import sys\n",
    "from imutils import paths\n",
    "\n",
    "import matplotlib.pyplot as plt\n",
    "import numpy as np\n",
    "from sklearn.model_selection import train_test_split\n",
    "import cv2\n",
    "\n",
    "import torch\n",
    "import torch.nn as nn\n",
    "import torch.nn.functional as F\n",
    "import torch.optim as optim\n",
    "from torch.utils.data import Subset, Dataset, DataLoader\n",
    "from torch.backends import cudnn\n",
    "from torch.optim.lr_scheduler import StepLR\n",
    "\n",
    "import torchvision\n",
    "from torchvision import datasets, transforms, models\n",
    "from torchvision.models import alexnet\n",
    "from torchvision.models import resnet18\n",
    "from torchvision.models import vgg11\n",
    "\n",
    "from PIL import Image\n",
    "from tqdm import tqdm\n",
    "import pickle"
   ]
  },
  {
   "cell_type": "code",
   "execution_count": 4,
   "metadata": {
    "id": "sGEUG-CiSDOz"
   },
   "outputs": [],
   "source": [
    "from torchvision.transforms import ToTensor\n",
    "from torch.optim import Adam, SGD\n",
    "from torchsummary import summary\n",
    "import matplotlib.pyplot as plt\n",
    "from imutils import paths\n",
    "import sklearn\n",
    "from sklearn.metrics import accuracy_score\n",
    "from sklearn.preprocessing import LabelEncoder\n",
    "from sklearn.model_selection import train_test_split\n",
    "from sklearn.metrics import classification_report, confusion_matrix\n",
    "from sklearn.metrics import roc_curve, auc\n",
    "from sklearn.metrics import precision_recall_curve\n",
    "from sklearn.metrics import average_precision_score\n",
    "from sklearn.metrics import PrecisionRecallDisplay\n",
    "\n",
    "import time\n",
    "import copy"
   ]
  },
  {
   "cell_type": "code",
   "execution_count": 5,
   "metadata": {
    "colab": {
     "base_uri": "https://localhost:8080/"
    },
    "id": "vRN_uQJiKJhz",
    "outputId": "c4adc593-b217-4fdd-9b72-7484311d156d"
   },
   "outputs": [
    {
     "name": "stdout",
     "output_type": "stream",
     "text": [
      "Drive already mounted at /content/drive; to attempt to forcibly remount, call drive.mount(\"/content/drive\", force_remount=True).\n",
      "101_ObjectCategories  CW2.ipynb  test_data.pkl\ttrain_data.pkl\tval_data.pkl\n"
     ]
    }
   ],
   "source": [
    "drive.mount('/content/drive')\n",
    "os.chdir('/content/drive/MyDrive/ML4CV_CW2')\n",
    "\n",
    "!ls"
   ]
  },
  {
   "cell_type": "code",
   "execution_count": 6,
   "metadata": {
    "colab": {
     "base_uri": "https://localhost:8080/",
     "height": 90
    },
    "id": "oDTmOnZ9MILR",
    "outputId": "ade50398-1431-43be-a73c-b64f9c2c7652"
   },
   "outputs": [
    {
     "data": {
      "application/vnd.google.colaboratory.intrinsic+json": {
       "type": "string"
      },
      "text/plain": [
       "\"image_paths = list(paths.list_images('101_ObjectCategories'))\\n\\ndata = []\\nlabels = []\\nfor img_path in tqdm(image_paths):\\n    label = img_path.split(os.path.sep)[-2]\\n\\n    img = cv2.imread(img_path)\\n    img = cv2.cvtColor(img, cv2.COLOR_BGR2RGB)\\n    img = cv2.resize(img, (224, 224))\\n\\n    data.append(img)\\n    labels.append(label)\\n\\ndata = np.array(data)\\nlabels = np.array(labels)\""
      ]
     },
     "execution_count": 6,
     "metadata": {},
     "output_type": "execute_result"
    }
   ],
   "source": [
    "'''image_paths = list(paths.list_images('101_ObjectCategories'))\n",
    "\n",
    "data = []\n",
    "labels = []\n",
    "for img_path in tqdm(image_paths):\n",
    "    label = img_path.split(os.path.sep)[-2]\n",
    "\n",
    "    img = cv2.imread(img_path)\n",
    "    img = cv2.cvtColor(img, cv2.COLOR_BGR2RGB)\n",
    "    img = cv2.resize(img, (224, 224))\n",
    "\n",
    "    data.append(img)\n",
    "    labels.append(label)\n",
    "\n",
    "data = np.array(data)\n",
    "labels = np.array(labels)'''"
   ]
  },
  {
   "cell_type": "code",
   "execution_count": 7,
   "metadata": {
    "colab": {
     "base_uri": "https://localhost:8080/",
     "height": 54
    },
    "id": "sLs8AsbRN4__",
    "outputId": "7be56bd9-bb99-4a9e-b3cc-91e76c6910cf"
   },
   "outputs": [
    {
     "data": {
      "application/vnd.google.colaboratory.intrinsic+json": {
       "type": "string"
      },
      "text/plain": [
       "'lb = LabelEncoder()\\nlabels = lb.fit_transform(labels)\\nprint(f\"Total Number of Classes: {len(lb.classes_)}\")\\nlb.classes_'"
      ]
     },
     "execution_count": 7,
     "metadata": {},
     "output_type": "execute_result"
    }
   ],
   "source": [
    "'''lb = LabelEncoder()\n",
    "labels = lb.fit_transform(labels)\n",
    "print(f\"Total Number of Classes: {len(lb.classes_)}\")\n",
    "lb.classes_'''"
   ]
  },
  {
   "cell_type": "code",
   "execution_count": 8,
   "metadata": {
    "id": "mPsGETN_SjHn"
   },
   "outputs": [],
   "source": [
    "train_transforms = transforms.Compose([\n",
    "    transforms.ToPILImage(),\n",
    "    transforms.ToTensor()])\n",
    "\n",
    "val_transform = transforms.Compose([\n",
    "    transforms.ToPILImage(),\n",
    "    transforms.ToTensor()])"
   ]
  },
  {
   "cell_type": "code",
   "execution_count": null,
   "metadata": {
    "colab": {
     "base_uri": "https://localhost:8080/",
     "height": 90
    },
    "id": "AtQSfDd4Stt2",
    "outputId": "d84babc8-2f25-4727-af25-ca819ccb76a0"
   },
   "outputs": [
    {
     "data": {
      "application/vnd.google.colaboratory.intrinsic+json": {
       "type": "string"
      },
      "text/plain": [
       "'X_train, X, y_train, y = train_test_split(data, labels,\\n                                          test_size=0.2,\\n                                          stratify=labels,\\n                                          random_state=42)\\nX_val, X_test, y_val, y_test = train_test_split(X, y,\\n                                                test_size=0.5,\\n                                                random_state=42)'"
      ]
     },
     "execution_count": 9,
     "metadata": {},
     "output_type": "execute_result"
    }
   ],
   "source": [
    "# data split\n",
    "'''X_train, X, y_train, y = train_test_split(data, labels,\n",
    "                                          test_size=0.2,\n",
    "                                          stratify=labels,\n",
    "                                          random_state=42)\n",
    "X_val, X_test, y_val, y_test = train_test_split(X, y,\n",
    "                                                test_size=0.5,\n",
    "                                                random_state=42)'''"
   ]
  },
  {
   "cell_type": "code",
   "execution_count": 10,
   "metadata": {
    "id": "O6IWhN5z8URF"
   },
   "outputs": [],
   "source": [
    "class MyDataset(Dataset):\n",
    "    def __init__(self, images, labels= None, transforms = None):\n",
    "        self.X = images\n",
    "        self.y = labels\n",
    "        self.transforms = transforms\n",
    "\n",
    "    def __len__(self):\n",
    "        return len(self.X)\n",
    "\n",
    "    def __getitem__(self, index):\n",
    "        data = self.X[index][:]\n",
    "\n",
    "        if self.transforms:\n",
    "            data = self.transforms(data)\n",
    "\n",
    "        if self.y is not None:\n",
    "            return (data, self.y[index])\n",
    "        else:\n",
    "            return data"
   ]
  },
  {
   "cell_type": "code",
   "execution_count": 11,
   "metadata": {
    "colab": {
     "base_uri": "https://localhost:8080/",
     "height": 90
    },
    "id": "b2LMqDMC8aSY",
    "outputId": "7dcf1342-ff37-497b-9cec-f17624d25127"
   },
   "outputs": [
    {
     "data": {
      "application/vnd.google.colaboratory.intrinsic+json": {
       "type": "string"
      },
      "text/plain": [
       "\"train_data = MyDataset(X_train, y_train, train_transforms)\\nval_data = MyDataset(X_val, y_val, val_transform)\\ntest_data = MyDataset(X_test, y_test, val_transform)\\n\\nwith open('train_data.pkl', 'wb') as f:\\n    pickle.dump(train_data, f)\\n\\nwith open('val_data.pkl', 'wb') as f:\\n    pickle.dump(val_data, f)\\n\\nwith open('test_data.pkl', 'wb') as f:\\n    pickle.dump(test_data, f)\""
      ]
     },
     "execution_count": 11,
     "metadata": {},
     "output_type": "execute_result"
    }
   ],
   "source": [
    "'''train_data = MyDataset(X_train, y_train, train_transforms)\n",
    "val_data = MyDataset(X_val, y_val, val_transform)\n",
    "test_data = MyDataset(X_test, y_test, val_transform)\n",
    "\n",
    "with open('train_data.pkl', 'wb') as f:\n",
    "    pickle.dump(train_data, f)\n",
    "\n",
    "with open('val_data.pkl', 'wb') as f:\n",
    "    pickle.dump(val_data, f)\n",
    "\n",
    "with open('test_data.pkl', 'wb') as f:\n",
    "    pickle.dump(test_data, f)'''"
   ]
  },
  {
   "cell_type": "code",
   "execution_count": 12,
   "metadata": {
    "id": "TgdkR0Pz-oFo"
   },
   "outputs": [],
   "source": [
    "# Load the datasets from pickle files\n",
    "with open('train_data.pkl', 'rb') as f:\n",
    "    train_data = pickle.load(f)\n",
    "\n",
    "with open('val_data.pkl', 'rb') as f:\n",
    "    val_data = pickle.load(f)\n",
    "\n",
    "with open('test_data.pkl', 'rb') as f:\n",
    "    test_data = pickle.load(f)\n",
    "\n",
    "batch_size = 16\n",
    "\n",
    "train_dataloader = DataLoader(train_data, batch_size=batch_size, shuffle=True)\n",
    "val_dataloader = DataLoader(val_data, batch_size=batch_size, shuffle=True)\n",
    "test_dataloader = DataLoader(test_data, batch_size=batch_size, shuffle=True)"
   ]
  },
  {
   "cell_type": "code",
   "execution_count": 13,
   "metadata": {
    "colab": {
     "base_uri": "https://localhost:8080/",
     "height": 190
    },
    "id": "sO0pMGiD8kFJ",
    "outputId": "56e972c5-9ea3-4766-f27e-fa7fd36f2260"
   },
   "outputs": [
    {
     "data": {
      "image/png": "[encoded data removed]",
      "text/plain": [
       "<Figure size 640x480 with 1 Axes>"
      ]
     },
     "metadata": {},
     "output_type": "display_data"
    }
   ],
   "source": [
    "def imgshow(img):\n",
    "    img = img / 2 + 0.5\n",
    "    npimg = img.numpy()\n",
    "    plt.imshow(np.transpose(npimg, (1, 2, 0)))\n",
    "    plt.show()\n",
    "    return\n",
    "\n",
    "x, y = next(iter(DataLoader(train_dataloader.dataset, batch_size=16, shuffle=True)))\n",
    "out = torchvision.utils.make_grid(x)\n",
    "imgshow(out)"
   ]
  },
  {
   "cell_type": "code",
   "execution_count": 14,
   "metadata": {
    "colab": {
     "base_uri": "https://localhost:8080/"
    },
    "id": "pLtmfsCu8n2S",
    "outputId": "4a6cfb4e-286a-4791-c564-ee9d14908999"
   },
   "outputs": [
    {
     "name": "stdout",
     "output_type": "stream",
     "text": [
      "device = cpu\n"
     ]
    }
   ],
   "source": [
    "if torch.cuda.is_available():\n",
    "    device = 'cuda'\n",
    "else:\n",
    "    device = 'cpu'\n",
    "\n",
    "print(f'device = {device}')"
   ]
  },
  {
   "cell_type": "code",
   "execution_count": 15,
   "metadata": {
    "id": "7vqL7RFc8uvM"
   },
   "outputs": [],
   "source": [
    "class EarlyStopping:\n",
    "    def __init__(self, tolerance=2, min_delta=0):\n",
    "\n",
    "        self.tolerance = tolerance\n",
    "        self.min_delta = min_delta\n",
    "        self.counter = 0\n",
    "        self.early_stop = False\n",
    "\n",
    "    def __call__(self, train_loss, validation_loss):\n",
    "        if (validation_loss - train_loss) > self.min_delta:\n",
    "            self.counter +=1\n",
    "            if self.counter >= self.tolerance:\n",
    "                self.early_stop = True"
   ]
  },
  {
   "cell_type": "code",
   "execution_count": 16,
   "metadata": {
    "id": "rSah0Ua69axb"
   },
   "outputs": [],
   "source": [
    "def fit(model, dataloader, optimizer, l2_lambda=0.001, l1_lambda=0.0):\n",
    "\n",
    "    print('-' * 5, 'Training', '-' * 5)\n",
    "\n",
    "    # Set model to training mode\n",
    "    model.train()\n",
    "    # Variables to track training procees (loss and accuracy)\n",
    "    running_loss = 0.0\n",
    "    running_correct = 0\n",
    "\n",
    "    # Iterate over data\n",
    "    for i, data in tqdm(enumerate(dataloader), total=int(len(train_data)/dataloader.batch_size)):\n",
    "        data, target = data[0].to(device), data[1].to(device)\n",
    "\n",
    "        # Zero the parameter gradients\n",
    "        optimizer.zero_grad()\n",
    "        # Make predictions for this batch\n",
    "        outputs = model(data)\n",
    "\n",
    "        # Tracking history\n",
    "        loss = criterion(outputs, target)\n",
    "\n",
    "        # Add L2 regularization\n",
    "        l2_reg = 0.0\n",
    "        for param in model.parameters():\n",
    "            l2_reg += torch.norm(param, 2)\n",
    "        loss += l2_lambda * l2_reg\n",
    "\n",
    "        # Add L1 regularization\n",
    "        l1_reg = 0.0\n",
    "        for param in model.parameters():\n",
    "            l1_reg += torch.norm(param, 1)  # Calculate L1 norm of parameters\n",
    "        loss += l1_lambda * l1_reg         # Add L1 regularization term to loss\n",
    "\n",
    "\n",
    "        running_loss += loss.item()\n",
    "        _, preds = torch.max(outputs.data, 1)\n",
    "        running_correct += torch.sum(preds == target.data).item()\n",
    "\n",
    "        # Compute gradients\n",
    "        loss.backward()\n",
    "        # Adjust learning weights\n",
    "        optimizer.step()\n",
    "\n",
    "    # Gather performance report\n",
    "    loss = running_loss/len(dataloader.dataset)\n",
    "    accuracy = 100. * running_correct/len(dataloader.dataset)\n",
    "\n",
    "    print(f\"Train Loss: {loss:.4f}, Train Acc: {accuracy:.2f}\")\n",
    "\n",
    "    return loss, accuracy"
   ]
  },
  {
   "cell_type": "code",
   "execution_count": 17,
   "metadata": {
    "id": "gnDVNklA9iBf"
   },
   "outputs": [],
   "source": [
    "def validate(model, dataloader, l2_lambda=0.001, l1_lambda=0.0):\n",
    "\n",
    "    print('-' * 5, 'Validating', '-' * 5)\n",
    "\n",
    "    # Set model to evaluate mode\n",
    "    model.eval()\n",
    "    # Variables to track validation procees (loss and accuracy)\n",
    "    running_loss = 0.0\n",
    "    running_correct = 0\n",
    "\n",
    "    # Do not update the gradients while evaluating model\n",
    "    with torch.no_grad():\n",
    "        # Iterate over data\n",
    "        for i, data in tqdm(enumerate(dataloader), total=int(len(val_data)/dataloader.batch_size)):\n",
    "            data, target = data[0].to(device), data[1].to(device)\n",
    "            # Make predictions for this batch\n",
    "            outputs = model(data)\n",
    "\n",
    "            # Tracking history\n",
    "            loss = criterion(outputs, target)\n",
    "\n",
    "            # Add L2 regularization (weight decay) - for loss calculation only\n",
    "            l2_reg = 0.0\n",
    "            for param in model.parameters():\n",
    "                l2_reg += torch.norm(param, 2)\n",
    "            loss += l2_lambda * l2_reg\n",
    "\n",
    "            # Add L1 regularization - for loss calculation only\n",
    "            l1_reg = 0.0\n",
    "            for param in model.parameters():\n",
    "                l1_reg += torch.norm(param, 1)\n",
    "            loss += l1_lambda * l1_reg\n",
    "\n",
    "            running_loss += loss.item()\n",
    "            _, preds = torch.max(outputs.data, 1)\n",
    "            running_correct += torch.sum(preds == target.data).item()\n",
    "\n",
    "        # Gather performance report\n",
    "        loss = running_loss/len(dataloader.dataset)\n",
    "        accuracy = 100. * running_correct/len(dataloader.dataset)\n",
    "        print(f'Validation Loss: {loss:.4f}, Val Acc: {accuracy:.4f}')\n",
    "\n",
    "        return loss, accuracy"
   ]
  },
  {
   "cell_type": "code",
   "execution_count": 18,
   "metadata": {
    "id": "uC1x2C3E9rlp"
   },
   "outputs": [],
   "source": [
    "def train_model(model, dataloaders, criterion, optimizer, num_epochs=5,\n",
    "                l2_lambda=0.001, l1_lambda=0.0, lr_scheduler=None):\n",
    "\n",
    "    # Data structures for saving Loss and Accuracy history\n",
    "    train_loss, train_accuracy = [], []\n",
    "    val_loss, val_accuracy = [], []\n",
    "\n",
    "    # Best model saving\n",
    "    best_model_wts = copy.deepcopy(model.state_dict())\n",
    "    best_acc = 0.0\n",
    "\n",
    "    # Early Stopping to avoid overfitting\n",
    "    early_stopping = EarlyStopping(tolerance=2, min_delta=0.2)\n",
    "\n",
    "    start = time.time()\n",
    "    # Iterate through epochs\n",
    "    for epoch in range(num_epochs):\n",
    "        print(f'Epoch {epoch + 1}/{num_epochs}')\n",
    "        print('-' * 10)\n",
    "\n",
    "        # Perform train and validation processes\n",
    "        train_epoch_loss, train_epoch_accuracy = fit(model, dataloaders['train'], optimizer, l2_lambda, l1_lambda)\n",
    "        val_epoch_loss, val_epoch_accuracy = validate(model, dataloaders['val'], l2_lambda, l1_lambda)\n",
    "\n",
    "        # Track history for both processes\n",
    "        train_loss.append(train_epoch_loss)\n",
    "        train_accuracy.append(train_epoch_accuracy)\n",
    "        val_loss.append(val_epoch_loss)\n",
    "        val_accuracy.append(val_epoch_accuracy)\n",
    "\n",
    "        if lr_scheduler is not None:\n",
    "            lr_scheduler.step(val_epoch_loss)\n",
    "            print(f\"Current Learning Rate: {optimizer.param_groups[0]['lr']:.6f}\")\n",
    "\n",
    "        # Determine and update best model\n",
    "        if val_epoch_accuracy > best_acc:\n",
    "                best_acc = val_epoch_accuracy\n",
    "                best_model_wts = copy.deepcopy(model.state_dict())\n",
    "                print(f'New best accuracy: {best_acc}. The best model was updated.')\n",
    "\n",
    "        # Use early stopping to prevent overfitting\n",
    "        early_stopping(train_epoch_loss, val_epoch_loss)\n",
    "        if early_stopping.early_stop:\n",
    "          print(\"Stopped at epoch:\", epoch)\n",
    "          break\n",
    "\n",
    "    end = time.time()\n",
    "    print(f'Training complete in {(end-start)/60} minutes')\n",
    "\n",
    "    print(f'Best Validation Accuracy: {best_acc:4f}')\n",
    "    model.load_state_dict(best_model_wts)\n",
    "\n",
    "    history = {\n",
    "        'train_loss': train_loss,\n",
    "        'train_accuracy': train_accuracy,\n",
    "        'val_loss': val_loss,\n",
    "        'val_accuracy': val_accuracy\n",
    "    }\n",
    "\n",
    "    return model, history"
   ]
  },
  {
   "cell_type": "code",
   "execution_count": 19,
   "metadata": {
    "id": "io-x_2kE9xij"
   },
   "outputs": [],
   "source": [
    "class CNN(nn.Module):\n",
    "    def __init__(self, n_layers, normalization='batch', skip=False, dropout_rate=0.0, l1_lambda=0.0, l2_lambda=0.0):\n",
    "        super(CNN, self).__init__()\n",
    "        self.n_layers = n_layers\n",
    "        self.normalization = normalization # 'batch', 'layer', 'group', 'instance'\n",
    "        self.skip = skip\n",
    "        self.dropout_rate = dropout_rate\n",
    "        self.l1_lambda = l1_lambda\n",
    "        self.l2_lambda = l2_lambda\n",
    "\n",
    "        # First convolutional layer\n",
    "        self.conv1 = nn.Conv2d(in_channels=3, out_channels=16, kernel_size=3, padding=1)\n",
    "        self.norm1 = self.get_norm_layer(16)  # Get the appropriate normalization layer\n",
    "        self.relu1 = nn.ReLU()\n",
    "        self.pool1 = nn.MaxPool2d(kernel_size=2)\n",
    "\n",
    "        # Additional convolutional layers based on n_layers\n",
    "        self.convs = nn.ModuleList()\n",
    "        self.norms = nn.ModuleList()  # Store normalization layers\n",
    "        self.relus = nn.ModuleList()\n",
    "        self.pools = nn.ModuleList()\n",
    "\n",
    "        in_channels = 16\n",
    "        out_channels = 32\n",
    "        for _ in range(n_layers - 1):\n",
    "            self.convs.append(nn.Conv2d(in_channels, out_channels, kernel_size=3, padding=1))\n",
    "            self.norms.append(self.get_norm_layer(out_channels))  # Get normalization layer\n",
    "            self.relus.append(nn.ReLU())\n",
    "            self.pools.append(nn.MaxPool2d(kernel_size=2))\n",
    "\n",
    "            in_channels = out_channels\n",
    "            out_channels *= 2\n",
    "\n",
    "        # Calculate the final output size\n",
    "        final_out_channels = 16 * (2**(n_layers -1))\n",
    "        final_out_size = 224 // (2**n_layers)\n",
    "\n",
    "        # Fully connected layer\n",
    "        self.fc = nn.Linear(in_features=final_out_channels * final_out_size * final_out_size, out_features=10)\n",
    "\n",
    "    def get_norm_layer(self, num_features):\n",
    "        \"\"\"Returns the appropriate normalization layer based on self.normalization.\"\"\"\n",
    "        if self.normalization == 'batch':\n",
    "            return nn.BatchNorm2d(num_features)\n",
    "        elif self.normalization == 'layer':\n",
    "            return nn.LayerNorm(num_features)\n",
    "        elif self.normalization == 'group':\n",
    "            return nn.GroupNorm(num_groups=32, num_channels=num_features)\n",
    "        elif self.normalization == 'instance':\n",
    "            return nn.InstanceNorm2d(num_features)\n",
    "        else:\n",
    "            raise ValueError(f\"Invalid normalization type: {self.normalization}\")\n",
    "\n",
    "    def forward(self, x):\n",
    "        # Pass data through the first convolutional layer\n",
    "        x = self.conv1(x)\n",
    "        x = self.norm1(x)  # Apply the selected normalization\n",
    "        x = self.relu1(x)\n",
    "        x = self.pool1(x)\n",
    "\n",
    "        # Store the output of the first layer for skip connection (if enabled)\n",
    "        identity = x if self.skip else None\n",
    "\n",
    "        # Pass data through additional convolutional layers\n",
    "        for i in range(self.n_layers - 1):\n",
    "            x = self.convs[i](x)\n",
    "            x = self.norms[i](x)  # Apply the selected normalization\n",
    "            x = self.relus[i](x)\n",
    "            if self.dropout_rate > 0: # Apply dropout if dropout_rate is greater than 0\n",
    "                x = F.dropout(x, p=self.dropout_rate, training=self.training)\n",
    "            x = self.pools[i](x)\n",
    "\n",
    "        # Apply skip connection if enabled and dimensions match\n",
    "        # dimension 안 맞아서 안 됨...\n",
    "        if self.skip and identity is not None and x.shape == identity.shape:\n",
    "            x += identity  # Add the identity (output of previous layer)\n",
    "            identity = x  # Update identity for the next layer\n",
    "\n",
    "\n",
    "        # Flatten the output\n",
    "        x = x.view(-1, self.fc.in_features)\n",
    "        x = self.fc(x)\n",
    "        return x"
   ]
  },
  {
   "cell_type": "code",
   "execution_count": 20,
   "metadata": {
    "colab": {
     "base_uri": "https://localhost:8080/"
    },
    "id": "sYSKfX9X90Gr",
    "outputId": "21d280c7-9cb5-46eb-df91-134520850c68"
   },
   "outputs": [
    {
     "name": "stdout",
     "output_type": "stream",
     "text": [
      "----------------------------------------------------------------\n",
      "        Layer (type)               Output Shape         Param #\n",
      "================================================================\n",
      "            Conv2d-1         [-1, 16, 224, 224]             448\n",
      "       BatchNorm2d-2         [-1, 16, 224, 224]              32\n",
      "              ReLU-3         [-1, 16, 224, 224]               0\n",
      "         MaxPool2d-4         [-1, 16, 112, 112]               0\n",
      "            Conv2d-5         [-1, 32, 112, 112]           4,640\n",
      "       BatchNorm2d-6         [-1, 32, 112, 112]              64\n",
      "              ReLU-7         [-1, 32, 112, 112]               0\n",
      "         MaxPool2d-8           [-1, 32, 56, 56]               0\n",
      "            Conv2d-9           [-1, 64, 56, 56]          18,496\n",
      "      BatchNorm2d-10           [-1, 64, 56, 56]             128\n",
      "             ReLU-11           [-1, 64, 56, 56]               0\n",
      "        MaxPool2d-12           [-1, 64, 28, 28]               0\n",
      "           Conv2d-13          [-1, 128, 28, 28]          73,856\n",
      "      BatchNorm2d-14          [-1, 128, 28, 28]             256\n",
      "             ReLU-15          [-1, 128, 28, 28]               0\n",
      "        MaxPool2d-16          [-1, 128, 14, 14]               0\n",
      "           Conv2d-17          [-1, 256, 14, 14]         295,168\n",
      "      BatchNorm2d-18          [-1, 256, 14, 14]             512\n",
      "             ReLU-19          [-1, 256, 14, 14]               0\n",
      "        MaxPool2d-20            [-1, 256, 7, 7]               0\n",
      "           Linear-21                   [-1, 10]         125,450\n",
      "================================================================\n",
      "Total params: 519,050\n",
      "Trainable params: 519,050\n",
      "Non-trainable params: 0\n",
      "----------------------------------------------------------------\n",
      "Input size (MB): 0.57\n",
      "Forward/backward pass size (MB): 38.57\n",
      "Params size (MB): 1.98\n",
      "Estimated Total Size (MB): 41.12\n",
      "----------------------------------------------------------------\n"
     ]
    }
   ],
   "source": [
    "model = CNN(n_layers=5)\n",
    "model.to(device)\n",
    "# Check model architecture\n",
    "summary(model, (3, 224, 224))"
   ]
  },
  {
   "cell_type": "code",
   "execution_count": 21,
   "metadata": {
    "id": "d1Re3JWoj3h5"
   },
   "outputs": [],
   "source": [
    "class MultiClassHingeLoss(nn.Module):\n",
    "    def __init__(self, margin=1.0):\n",
    "        super(MultiClassHingeLoss, self).__init__()\n",
    "        self.margin = margin\n",
    "\n",
    "    def forward(self, output, target):\n",
    "        # Convert target to one-hot encoding\n",
    "        target_onehot = torch.zeros_like(output)\n",
    "        target_onehot.scatter_(1, target.unsqueeze(1), 1)\n",
    "\n",
    "        # Calculate hinge loss\n",
    "        loss = torch.mean(torch.max(torch.zeros_like(output),\n",
    "                                   self.margin - (output * target_onehot) +\n",
    "                                   (output * (1 - target_onehot))).sum(dim=1))\n",
    "        return loss"
   ]
  },
  {
   "cell_type": "code",
   "execution_count": null,
   "metadata": {
    "colab": {
     "base_uri": "https://localhost:8080/"
    },
    "id": "Qs5SSVh7927-",
    "outputId": "ab48f6c6-468e-417b-8d2b-c966300295a6"
   },
   "outputs": [
    {
     "name": "stderr",
     "output_type": "stream",
     "text": [
      "/usr/local/lib/python3.10/dist-packages/torch/optim/lr_scheduler.py:62: UserWarning: The verbose parameter is deprecated. Please use get_last_lr() to access the learning rate.\n",
      "  warnings.warn(\n"
     ]
    },
    {
     "name": "stdout",
     "output_type": "stream",
     "text": [
      "Epoch 1/15\n",
      "----------\n",
      "----- Training -----\n"
     ]
    },
    {
     "name": "stderr",
     "output_type": "stream",
     "text": [
      "38it [00:42,  1.12s/it]\n"
     ]
    },
    {
     "name": "stdout",
     "output_type": "stream",
     "text": [
      "Train Loss: 0.2435, Train Acc: 39.47\n",
      "----- Validating -----\n"
     ]
    },
    {
     "name": "stderr",
     "output_type": "stream",
     "text": [
      "5it [00:01,  2.66it/s]\n"
     ]
    },
    {
     "name": "stdout",
     "output_type": "stream",
     "text": [
      "Validation Loss: 0.1524, Val Acc: 32.0000\n",
      "Current Learning Rate: 0.001000\n",
      "New best accuracy: 32.0. The best model was updated.\n",
      "Epoch 2/15\n",
      "----------\n",
      "----- Training -----\n"
     ]
    },
    {
     "name": "stderr",
     "output_type": "stream",
     "text": [
      "38it [00:43,  1.14s/it]\n"
     ]
    },
    {
     "name": "stdout",
     "output_type": "stream",
     "text": [
      "Train Loss: 0.0865, Train Acc: 67.50\n",
      "----- Validating -----\n"
     ]
    },
    {
     "name": "stderr",
     "output_type": "stream",
     "text": [
      "5it [00:01,  2.67it/s]\n"
     ]
    },
    {
     "name": "stdout",
     "output_type": "stream",
     "text": [
      "Validation Loss: 0.1110, Val Acc: 70.6667\n",
      "Current Learning Rate: 0.001000\n",
      "New best accuracy: 70.66666666666667. The best model was updated.\n",
      "Epoch 3/15\n",
      "----------\n",
      "----- Training -----\n"
     ]
    },
    {
     "name": "stderr",
     "output_type": "stream",
     "text": [
      "38it [00:43,  1.15s/it]\n"
     ]
    },
    {
     "name": "stdout",
     "output_type": "stream",
     "text": [
      "Train Loss: 0.0527, Train Acc: 78.28\n",
      "----- Validating -----\n"
     ]
    },
    {
     "name": "stderr",
     "output_type": "stream",
     "text": [
      "5it [00:01,  2.63it/s]\n"
     ]
    },
    {
     "name": "stdout",
     "output_type": "stream",
     "text": [
      "Validation Loss: 0.1013, Val Acc: 61.3333\n",
      "Current Learning Rate: 0.001000\n",
      "Epoch 4/15\n",
      "----------\n",
      "----- Training -----\n"
     ]
    },
    {
     "name": "stderr",
     "output_type": "stream",
     "text": [
      "38it [00:43,  1.15s/it]\n"
     ]
    },
    {
     "name": "stdout",
     "output_type": "stream",
     "text": [
      "Train Loss: 0.0344, Train Acc: 83.91\n",
      "----- Validating -----\n"
     ]
    },
    {
     "name": "stderr",
     "output_type": "stream",
     "text": [
      "5it [00:01,  2.66it/s]\n"
     ]
    },
    {
     "name": "stdout",
     "output_type": "stream",
     "text": [
      "Validation Loss: 0.1019, Val Acc: 73.3333\n",
      "Current Learning Rate: 0.001000\n",
      "New best accuracy: 73.33333333333333. The best model was updated.\n",
      "Epoch 5/15\n",
      "----------\n",
      "----- Training -----\n"
     ]
    },
    {
     "name": "stderr",
     "output_type": "stream",
     "text": [
      "38it [00:43,  1.14s/it]\n"
     ]
    },
    {
     "name": "stdout",
     "output_type": "stream",
     "text": [
      "Train Loss: 0.0327, Train Acc: 86.57\n",
      "----- Validating -----\n"
     ]
    },
    {
     "name": "stderr",
     "output_type": "stream",
     "text": [
      "5it [00:01,  2.61it/s]\n"
     ]
    },
    {
     "name": "stdout",
     "output_type": "stream",
     "text": [
      "Validation Loss: 0.0785, Val Acc: 73.3333\n",
      "Current Learning Rate: 0.001000\n",
      "Epoch 6/15\n",
      "----------\n",
      "----- Training -----\n"
     ]
    },
    {
     "name": "stderr",
     "output_type": "stream",
     "text": [
      "38it [00:43,  1.13s/it]\n"
     ]
    },
    {
     "name": "stdout",
     "output_type": "stream",
     "text": [
      "Train Loss: 0.0250, Train Acc: 89.88\n",
      "----- Validating -----\n"
     ]
    },
    {
     "name": "stderr",
     "output_type": "stream",
     "text": [
      "5it [00:01,  2.63it/s]\n"
     ]
    },
    {
     "name": "stdout",
     "output_type": "stream",
     "text": [
      "Validation Loss: 0.0799, Val Acc: 78.6667\n",
      "Current Learning Rate: 0.001000\n",
      "New best accuracy: 78.66666666666667. The best model was updated.\n",
      "Epoch 7/15\n",
      "----------\n",
      "----- Training -----\n"
     ]
    },
    {
     "name": "stderr",
     "output_type": "stream",
     "text": [
      "38it [00:44,  1.17s/it]\n"
     ]
    },
    {
     "name": "stdout",
     "output_type": "stream",
     "text": [
      "Train Loss: 0.0168, Train Acc: 94.86\n",
      "----- Validating -----\n"
     ]
    },
    {
     "name": "stderr",
     "output_type": "stream",
     "text": [
      "5it [00:02,  1.97it/s]\n"
     ]
    },
    {
     "name": "stdout",
     "output_type": "stream",
     "text": [
      "Validation Loss: 0.0734, Val Acc: 85.3333\n",
      "Current Learning Rate: 0.001000\n",
      "New best accuracy: 85.33333333333333. The best model was updated.\n",
      "Epoch 8/15\n",
      "----------\n",
      "----- Training -----\n"
     ]
    },
    {
     "name": "stderr",
     "output_type": "stream",
     "text": [
      "38it [00:43,  1.15s/it]\n"
     ]
    },
    {
     "name": "stdout",
     "output_type": "stream",
     "text": [
      "Train Loss: 0.0117, Train Acc: 96.52\n",
      "----- Validating -----\n"
     ]
    },
    {
     "name": "stderr",
     "output_type": "stream",
     "text": [
      "5it [00:02,  1.81it/s]\n"
     ]
    },
    {
     "name": "stdout",
     "output_type": "stream",
     "text": [
      "Validation Loss: 0.0661, Val Acc: 85.3333\n",
      "Current Learning Rate: 0.001000\n",
      "Epoch 9/15\n",
      "----------\n",
      "----- Training -----\n"
     ]
    },
    {
     "name": "stderr",
     "output_type": "stream",
     "text": [
      "  3%|▎         | 1/37 [00:01<00:41,  1.15s/it]"
     ]
    }
   ],
   "source": [
    "initial_lr = 0.001\n",
    "optimizer = Adam(model.parameters(), lr=initial_lr)\n",
    "\n",
    "# scheduler = None\n",
    "# scheduler = StepLR(optimizer, step_size=7, gamma=0.1)\n",
    "scheduler = torch.optim.lr_scheduler.ReduceLROnPlateau(optimizer, mode='min', factor=0.1, patience=3, verbose=True)\n",
    "\n",
    "criterion = nn.CrossEntropyLoss()\n",
    "# criterion = MultiClassHingeLoss(margin=1.0)\n",
    "\n",
    "model, history_model = train_model(model=model,\n",
    "                                dataloaders={'train':train_dataloader, 'val':val_dataloader},\n",
    "                                criterion=criterion,\n",
    "                                optimizer=optimizer,\n",
    "                                num_epochs=15,\n",
    "                                lr_scheduler=scheduler)"
   ]
  },
  {
   "cell_type": "code",
   "execution_count": null,
   "metadata": {
    "id": "sZHoJz_bfeOT"
   },
   "outputs": [],
   "source": []
  }
 ],
 "metadata": {
  "accelerator": "GPU",
  "colab": {
   "authorship_tag": "ABX9TyMmqKcntq3XdyDVw5EciX0z",
   "gpuType": "T4",
   "include_colab_link": true,
   "mount_file_id": "1WTKycs1wuTYS1lOxM9nbSGyKvMHH7MRY",
   "provenance": []
  },
  "kernelspec": {
   "display_name": "Python 3",
   "name": "python3"
  },
  "language_info": {
   "name": "python"
  }
 },
 "nbformat": 4,
 "nbformat_minor": 0
}
