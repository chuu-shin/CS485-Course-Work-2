{
 "cells": [
  {
   "cell_type": "code",
   "execution_count": 2,
   "metadata": {},
   "outputs": [
    {
     "name": "stdout",
     "output_type": "stream",
     "text": [
      "Images have been successfully split into train and test folders.\n"
     ]
    }
   ],
   "source": [
    "import os\n",
    "import random\n",
    "import shutil\n",
    "\n",
    "# Define the paths to the assets folder and the new train/test directories\n",
    "assets_folder = 'assets/Caltech_101'  # Replace with the path to your assets folder\n",
    "train_folder = 'assets/train'\n",
    "test_folder = 'assets/test'\n",
    "\n",
    "# Create train and test directories if they don't exist\n",
    "os.makedirs(train_folder, exist_ok=True)\n",
    "os.makedirs(test_folder, exist_ok=True)\n",
    "\n",
    "# Loop through each class in the assets folder\n",
    "for class_name in os.listdir(assets_folder):\n",
    "    class_path = os.path.join(assets_folder, class_name)\n",
    "    \n",
    "    if os.path.isdir(class_path):\n",
    "        # Get all image files in the class folder\n",
    "        image_files = [f for f in os.listdir(class_path) if os.path.isfile(os.path.join(class_path, f))]\n",
    "        \n",
    "        # Randomly select 15 images for training and 15 for testing\n",
    "        selected_images = random.sample(image_files, 30)\n",
    "        train_images = selected_images[:15]\n",
    "        test_images = selected_images[15:]\n",
    "        \n",
    "        # Create class subfolders in train and test folders\n",
    "        train_class_folder = os.path.join(train_folder, class_name)\n",
    "        test_class_folder = os.path.join(test_folder, class_name)\n",
    "        os.makedirs(train_class_folder, exist_ok=True)\n",
    "        os.makedirs(test_class_folder, exist_ok=True)\n",
    "        \n",
    "        # Move selected images to the train and test folders\n",
    "        for image in train_images:\n",
    "            shutil.copy(os.path.join(class_path, image), os.path.join(train_class_folder, image))\n",
    "        \n",
    "        for image in test_images:\n",
    "            shutil.copy(os.path.join(class_path, image), os.path.join(test_class_folder, image))\n",
    "\n",
    "print(\"Images have been successfully split into train and test folders.\")\n"
   ]
  },
  {
   "cell_type": "code",
   "execution_count": null,
   "metadata": {},
   "outputs": [],
   "source": []
  }
 ],
 "metadata": {
  "kernelspec": {
   "display_name": "base",
   "language": "python",
   "name": "python3"
  },
  "language_info": {
   "codemirror_mode": {
    "name": "ipython",
    "version": 3
   },
   "file_extension": ".py",
   "mimetype": "text/x-python",
   "name": "python",
   "nbconvert_exporter": "python",
   "pygments_lexer": "ipython3",
   "version": "3.9.12"
  }
 },
 "nbformat": 4,
 "nbformat_minor": 2
}
